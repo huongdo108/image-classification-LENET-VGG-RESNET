{
 "cells": [
  {
   "cell_type": "markdown",
   "metadata": {},
   "source": [
    "# Convolutional networks - VGG\n",
    "    \n",
    "A convolutional neural network with an architecture inspired by a VGG-network [(Simonyan \\& Zisserman, 2015)](https://arxiv.org/abs/1409.1556).\n",
    "    "
   ]
  },
  {
   "cell_type": "code",
   "execution_count": 1,
   "metadata": {
    "ExecuteTime": {
     "end_time": "2020-08-15T09:24:22.257073Z",
     "start_time": "2020-08-15T09:24:22.254109Z"
    }
   },
   "outputs": [],
   "source": [
    "skip_training = False  # Set this flag to True before validation and submission"
   ]
  },
  {
   "cell_type": "code",
   "execution_count": 2,
   "metadata": {
    "ExecuteTime": {
     "end_time": "2020-08-15T09:24:23.732745Z",
     "start_time": "2020-08-15T09:24:22.865241Z"
    }
   },
   "outputs": [],
   "source": [
    "import os\n",
    "import numpy as np\n",
    "import matplotlib.pyplot as plt\n",
    "%matplotlib inline\n",
    "\n",
    "import torch\n",
    "import torchvision\n",
    "import torchvision.transforms as transforms\n",
    "\n",
    "import torch.nn as nn\n",
    "import torch.nn.functional as F\n",
    "import torch.optim as optim\n",
    "\n",
    "import tools\n",
    "import tests"
   ]
  },
  {
   "cell_type": "code",
   "execution_count": 3,
   "metadata": {
    "ExecuteTime": {
     "end_time": "2020-08-15T09:24:24.261633Z",
     "start_time": "2020-08-15T09:24:24.255633Z"
    }
   },
   "outputs": [
    {
     "name": "stdout",
     "output_type": "stream",
     "text": [
      "The data directory is ../data\n"
     ]
    }
   ],
   "source": [
    "# When running on your own computer, you can specify the data directory by:\n",
    "# data_dir = tools.select_data_dir('/your/local/data/directory')\n",
    "data_dir = tools.select_data_dir()"
   ]
  },
  {
   "cell_type": "code",
   "execution_count": 4,
   "metadata": {
    "ExecuteTime": {
     "end_time": "2020-08-15T09:24:25.052642Z",
     "start_time": "2020-08-15T09:24:25.049678Z"
    }
   },
   "outputs": [],
   "source": [
    "# Select the device for training (use GPU if you have one)\n",
    "#device = torch.device('cuda:0')\n",
    "device = torch.device('cpu')"
   ]
  },
  {
   "cell_type": "code",
   "execution_count": 5,
   "metadata": {
    "ExecuteTime": {
     "end_time": "2020-08-15T09:24:25.695888Z",
     "start_time": "2020-08-15T09:24:25.692921Z"
    }
   },
   "outputs": [],
   "source": [
    "if skip_training:\n",
    "    # The models are always evaluated on CPU\n",
    "    device = torch.device(\"cpu\")"
   ]
  },
  {
   "cell_type": "markdown",
   "metadata": {},
   "source": [
    "## FashionMNIST dataset\n",
    "\n",
    "The dataset is used is FashionMNIST. It consists of 60,000 training images of 10 classes: 'T-shirt/top', 'Trouser', 'Pullover', 'Dress', 'Coat', 'Sandal', 'Shirt', 'Sneaker', 'Bag', 'Ankle boot'."
   ]
  },
  {
   "cell_type": "code",
   "execution_count": 6,
   "metadata": {
    "ExecuteTime": {
     "end_time": "2020-08-15T09:24:29.149587Z",
     "start_time": "2020-08-15T09:24:29.113591Z"
    }
   },
   "outputs": [],
   "source": [
    "transform = transforms.Compose([\n",
    "    transforms.ToTensor(),  # Transform to tensor\n",
    "    transforms.Normalize((0.5,), (0.5,))  # Min-max scaling to [-1, 1]\n",
    "])\n",
    "\n",
    "trainset = torchvision.datasets.FashionMNIST(root=data_dir, train=True, download=True, transform=transform)\n",
    "testset = torchvision.datasets.FashionMNIST(root=data_dir, train=False, download=True, transform=transform)\n",
    "\n",
    "classes = ['T-shirt/top', 'Trouser', 'Pullover', 'Dress', 'Coat', 'Sandal',\n",
    "           'Shirt', 'Sneaker', 'Bag', 'Ankle boot']\n",
    "\n",
    "trainloader = torch.utils.data.DataLoader(trainset, batch_size=32, shuffle=True)\n",
    "testloader = torch.utils.data.DataLoader(testset, batch_size=5, shuffle=False)"
   ]
  },
  {
   "cell_type": "markdown",
   "metadata": {},
   "source": [
    "## VGG-style network\n",
    "\n",
    "Here I created a convolution neural network with an architecture inspired by the [VGG-net](https://arxiv.org/abs/1409.1556):\n",
    "\n",
    "<img src=\"images/vgg-style.png\" width=\"300\" >"
   ]
  },
  {
   "cell_type": "markdown",
   "metadata": {},
   "source": [
    "The architecture of the convolutional network:\n",
    "\n",
    "* A block of three convolutional layers with:\n",
    "    * 3x3 kernel\n",
    "    * 16 output channels\n",
    "    * one pixel zero-pading on both sides\n",
    "    * 2d batch normalization after each convolutional layer\n",
    "    * ReLU nonlinearity after each 2d batch normalization layer\n",
    "* Max pooling layer with 2x2 kernel and stride 2.\n",
    "* A block of three convolutional layers with:\n",
    "    * 3x3 kernel\n",
    "    * 32 output channels\n",
    "    * one pixel zero-pading on both sides\n",
    "    * 2d batch normalization after each convolutional layer\n",
    "    * ReLU nonlinearity after each 2d batch normalization layer\n",
    "* Max pooling layer with 2x2 kernel and stride 2.\n",
    "* One convolutional layer with:\n",
    "    * 3x3 kernel\n",
    "    * 48 output channels\n",
    "    * *no padding*\n",
    "    * 2d batch normalization after the convolutional layer\n",
    "    * ReLU nonlinearity after the 2d batch normalization layer\n",
    "* One convolutional layer with:\n",
    "    * 1x1 kernel\n",
    "    * 32 output channels\n",
    "    * *no padding*\n",
    "    * 2d batch normalization after the convolutional layer\n",
    "    * ReLU nonlinearity after the 2d batch normalization layer\n",
    "* One convolutional layer with:\n",
    "    * 1x1 kernel\n",
    "    * 16 output channels\n",
    "    * *no padding*\n",
    "    * 2d batch normalization after the convolutional layer\n",
    "    * ReLU nonlinearity after the 2d batch normalization layer\n",
    "* Global average pooling (compute the average value of each channel across all the input locations):\n",
    "    * 5x5 kernel (the input of the layer should be 5x5)\n",
    "* A fully-connected layer with 10 outputs (no nonlinearity)\n",
    "\n",
    "Notes:\n",
    "* Batch normalization is expected to be right after a convolutional layer, before nonlinearity.\n",
    "* We recommend that you check the number of modules with trainable parameters in your network."
   ]
  },
  {
   "cell_type": "code",
   "execution_count": 7,
   "metadata": {
    "ExecuteTime": {
     "end_time": "2020-08-15T09:24:31.502737Z",
     "start_time": "2020-08-15T09:24:31.479691Z"
    }
   },
   "outputs": [],
   "source": [
    "class VGGNet(nn.Module):\n",
    "    def __init__(self, n_channels=16):\n",
    "        \"\"\"\n",
    "        Args:\n",
    "          n_channels (int): Number of channels in the first convolutional layer. The number of channels in the following layers are the multipliers of n_channels. Hence, parameters of the layers to follow can be defined using this variable.\n",
    "        \"\"\"\n",
    "        super(VGGNet, self).__init__()\n",
    "        self.layer1 = nn.Sequential()\n",
    "        self.layer1.add_module(\"Conv1\", nn.Conv2d(in_channels=1, out_channels=n_channels, kernel_size=3, padding=1))\n",
    "        self.layer1.add_module(\"BN1\", nn.BatchNorm2d(num_features=n_channels))# eps=1e-05, momentum=0.1, affine=True, track_running_stats=True))\n",
    "        self.layer1.add_module(\"Relu1\", nn.ReLU(inplace=False))\n",
    "\n",
    "        self.layer2 = nn.Sequential()\n",
    "        self.layer2.add_module(\"Conv2\", nn.Conv2d(in_channels=n_channels, out_channels=n_channels, kernel_size=3, padding=1))\n",
    "        self.layer2.add_module(\"BN2\", nn.BatchNorm2d(num_features=n_channels))# eps=1e-05, momentum=0.1, affine=True, track_running_stats=True))\n",
    "        self.layer2.add_module(\"Relu2\", nn.ReLU(inplace=False))\n",
    "\n",
    "        self.layer3 = nn.Sequential()\n",
    "        self.layer3.add_module(\"Conv3\", nn.Conv2d(in_channels=n_channels, out_channels=n_channels, kernel_size=3, padding=1))\n",
    "        self.layer3.add_module(\"BN3\", nn.BatchNorm2d(num_features=n_channels))# eps=1e-05, momentum=0.1, affine=True, track_running_stats=True))\n",
    "        self.layer3.add_module(\"Relu3\", nn.ReLU(inplace=False))\n",
    "                               \n",
    "        self.pool1 = nn.MaxPool2d(kernel_size=2,stride=2,padding = 0)\n",
    "                               \n",
    "        self.layer4 = nn.Sequential()\n",
    "        self.layer4.add_module(\"Conv4\", nn.Conv2d(in_channels=n_channels, out_channels=32, kernel_size=3, padding=1))\n",
    "        self.layer4.add_module(\"BN4\", nn.BatchNorm2d(num_features=32))# eps=1e-05, momentum=0.1, affine=True, track_running_stats=True))\n",
    "        self.layer4.add_module(\"Relu4\", nn.ReLU(inplace=False))\n",
    "\n",
    "        self.layer5 = nn.Sequential()\n",
    "        self.layer5.add_module(\"Conv5\", nn.Conv2d(in_channels=32, out_channels=32, kernel_size=3, padding=1))\n",
    "        self.layer5.add_module(\"BN5\", nn.BatchNorm2d(num_features=32))# eps=1e-05, momentum=0.1, affine=True, track_running_stats=True))\n",
    "        self.layer5.add_module(\"Relu5\", nn.ReLU(inplace=False))\n",
    "                               \n",
    "        self.layer6 = nn.Sequential()\n",
    "        self.layer6.add_module(\"Conv6\", nn.Conv2d(in_channels=32, out_channels=32, kernel_size=3, padding=1))\n",
    "        self.layer6.add_module(\"BN6\", nn.BatchNorm2d(num_features=32))# eps=1e-05, momentum=0.1, affine=True, track_running_stats=True))\n",
    "        self.layer6.add_module(\"Relu6\", nn.ReLU(inplace=False))                               \n",
    "                               \n",
    "        self.pool2 = nn.MaxPool2d(kernel_size=2,stride=2,padding = 0)\n",
    "                               \n",
    "        self.layer7 = nn.Sequential()\n",
    "        self.layer7.add_module(\"Conv7\", nn.Conv2d(in_channels=32, out_channels=48, kernel_size=3, padding=0))\n",
    "        self.layer7.add_module(\"BN7\", nn.BatchNorm2d(num_features=48))# eps=1e-05, momentum=0.1, affine=True, track_running_stats=True))\n",
    "        self.layer7.add_module(\"Relu7\", nn.ReLU(inplace=False)) \n",
    "                               \n",
    "        self.layer8 = nn.Sequential()\n",
    "        self.layer8.add_module(\"Conv8\", nn.Conv2d(in_channels=48, out_channels=32, kernel_size=1, padding=0))\n",
    "        self.layer8.add_module(\"BN8\", nn.BatchNorm2d(num_features=32))# eps=1e-05, momentum=0.1, affine=True, track_running_stats=True))\n",
    "        self.layer8.add_module(\"Relu8\", nn.ReLU(inplace=False))       \n",
    "                               \n",
    "        self.layer9 = nn.Sequential()\n",
    "        self.layer9.add_module(\"Conv9\", nn.Conv2d(in_channels=32, out_channels=16, kernel_size=1, padding=0))\n",
    "        self.layer9.add_module(\"BN9\", nn.BatchNorm2d(num_features=16))# eps=1e-05, momentum=0.1, affine=True, track_running_stats=True))\n",
    "        self.layer9.add_module(\"Relu9\", nn.ReLU(inplace=False)) \n",
    "                               \n",
    "        self.pool3 = nn.AvgPool2d(kernel_size=5)\n",
    "                               \n",
    "        self.fc1 = nn.Linear(16*1*1, 10) \n",
    "\n",
    "                               \n",
    "    def forward(self, x, verbose=False):\n",
    "        \"\"\"\n",
    "        Args:\n",
    "          x of shape (batch_size, 1, 28, 28): Input images.\n",
    "          verbose: True if you want to print the shapes of the intermediate variables.\n",
    "        \n",
    "        Returns:\n",
    "          y of shape (batch_size, 10): Outputs of the network.\n",
    "        \"\"\"\n",
    "        x = self.layer1(x)\n",
    "        x = self.layer2(x)\n",
    "        x = self.layer3(x)\n",
    "        x = self.pool1(x)\n",
    "        x = self.layer4(x)\n",
    "        x = self.layer5(x)\n",
    "        x = self.layer6(x)\n",
    "        x = self.pool2(x)\n",
    "        x = self.layer7(x)\n",
    "        x = self.layer8(x)\n",
    "        x = self.layer9(x)\n",
    "        x = self.pool3(x)\n",
    "        y = x.view(-1,16*1*1) \n",
    "        y = self.fc1(y)\n",
    "        return y"
   ]
  },
  {
   "cell_type": "markdown",
   "metadata": {},
   "source": [
    "## Training "
   ]
  },
  {
   "cell_type": "code",
   "execution_count": 8,
   "metadata": {
    "ExecuteTime": {
     "end_time": "2020-08-15T09:24:33.962253Z",
     "start_time": "2020-08-15T09:24:33.956253Z"
    }
   },
   "outputs": [],
   "source": [
    "# This function computes the accuracy on the test dataset\n",
    "def compute_accuracy(net, testloader):\n",
    "    net.eval()\n",
    "    correct = 0\n",
    "    total = 0\n",
    "    with torch.no_grad():\n",
    "        for images, labels in testloader:\n",
    "            images, labels = images.to(device), labels.to(device)\n",
    "            outputs = net(images)\n",
    "            _, predicted = torch.max(outputs.data, 1)\n",
    "            total += labels.size(0)\n",
    "            correct += (predicted == labels).sum().item()\n",
    "    return correct / total"
   ]
  },
  {
   "cell_type": "code",
   "execution_count": 9,
   "metadata": {
    "ExecuteTime": {
     "end_time": "2020-08-15T09:24:35.164022Z",
     "start_time": "2020-08-15T09:24:35.154023Z"
    }
   },
   "outputs": [],
   "source": [
    "net = VGGNet()"
   ]
  },
  {
   "cell_type": "code",
   "execution_count": 10,
   "metadata": {
    "ExecuteTime": {
     "end_time": "2020-08-15T10:38:41.376553Z",
     "start_time": "2020-08-15T09:24:36.860316Z"
    }
   },
   "outputs": [
    {
     "name": "stdout",
     "output_type": "stream",
     "text": [
      "Train Epoch 0: Loss: 0.526230 Test accuracy 0.87\n",
      "Train Epoch 1: Loss: 0.188631 Test accuracy 0.88\n",
      "Train Epoch 2: Loss: 0.403229 Test accuracy 0.88\n",
      "Train Epoch 3: Loss: 0.197453 Test accuracy 0.89\n",
      "Train Epoch 4: Loss: 0.471652 Test accuracy 0.90\n",
      "Train Epoch 5: Loss: 0.231441 Test accuracy 0.89\n",
      "Train Epoch 6: Loss: 0.274910 Test accuracy 0.91\n",
      "Train Epoch 7: Loss: 0.074332 Test accuracy 0.90\n",
      "Train Epoch 8: Loss: 0.552233 Test accuracy 0.91\n",
      "Train Epoch 9: Loss: 0.106245 Test accuracy 0.91\n"
     ]
    }
   ],
   "source": [
    "# Implement the training loop\n",
    "if not skip_training:\n",
    "    optimizer = torch.optim.Adam(net.parameters(),lr=0.01)\n",
    "    n_epochs = 10\n",
    "    loss_method = nn.CrossEntropyLoss()\n",
    "\n",
    "    for epoch in range(n_epochs):\n",
    "        for i, data in enumerate(trainloader, 0):\n",
    "            inputs, labels = data\n",
    "            optimizer.zero_grad()\n",
    "            net.zero_grad()\n",
    "            outputs = net(inputs)\n",
    "            loss = loss_method(outputs,labels)\n",
    "            loss.backward()\n",
    "            optimizer.step() \n",
    "\n",
    "        test_accuracy = compute_accuracy(net, testloader)\n",
    "        print('Train Epoch {}: Loss: {:.6f} Test accuracy {:.2f}'.format(epoch, loss.item(), test_accuracy)) "
   ]
  },
  {
   "cell_type": "markdown",
   "metadata": {},
   "source": [
    "## Save model to disk"
   ]
  },
  {
   "cell_type": "code",
   "execution_count": 11,
   "metadata": {
    "ExecuteTime": {
     "end_time": "2020-08-15T10:38:55.075278Z",
     "start_time": "2020-08-15T10:38:53.135402Z"
    }
   },
   "outputs": [
    {
     "name": "stdout",
     "output_type": "stream",
     "text": [
      "Do you want to save the model (type yes to confirm)? yes\n",
      "Model saved to 4_vgg_net.pth.\n"
     ]
    }
   ],
   "source": [
    "if not skip_training:\n",
    "    tools.save_model(net, '4_vgg_net.pth')\n",
    "else:\n",
    "    net = VGGNet()\n",
    "    tools.load_model(net, '4_vgg_net.pth', device)"
   ]
  },
  {
   "cell_type": "markdown",
   "metadata": {},
   "source": [
    "## Evaluate model performance on test set"
   ]
  },
  {
   "cell_type": "code",
   "execution_count": 12,
   "metadata": {
    "ExecuteTime": {
     "end_time": "2020-08-15T10:39:34.531479Z",
     "start_time": "2020-08-15T10:38:57.168937Z"
    }
   },
   "outputs": [
    {
     "name": "stdout",
     "output_type": "stream",
     "text": [
      "Accuracy of the VGG net on the test images: 0.911\n"
     ]
    }
   ],
   "source": [
    "# Compute the accuracy on the test set\n",
    "accuracy = compute_accuracy(net, testloader)\n",
    "print('Accuracy of the VGG net on the test images: %.3f' % accuracy)"
   ]
  }
 ],
 "metadata": {
  "kernelspec": {
   "display_name": "Python 3",
   "language": "python",
   "name": "python3"
  },
  "language_info": {
   "codemirror_mode": {
    "name": "ipython",
    "version": 3
   },
   "file_extension": ".py",
   "mimetype": "text/x-python",
   "name": "python",
   "nbconvert_exporter": "python",
   "pygments_lexer": "ipython3",
   "version": "3.6.5"
  },
  "toc": {
   "base_numbering": 1,
   "nav_menu": {},
   "number_sections": true,
   "sideBar": true,
   "skip_h1_title": false,
   "title_cell": "Table of Contents",
   "title_sidebar": "Contents",
   "toc_cell": false,
   "toc_position": {},
   "toc_section_display": true,
   "toc_window_display": false
  }
 },
 "nbformat": 4,
 "nbformat_minor": 4
}
